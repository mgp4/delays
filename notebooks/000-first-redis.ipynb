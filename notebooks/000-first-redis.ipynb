{
 "cells": [
  {
   "cell_type": "markdown",
   "metadata": {},
   "source": [
    "# My first notebook"
   ]
  },
  {
   "cell_type": "markdown",
   "metadata": {},
   "source": [
    "I'll demonstrate how to clear our Redis database, then sparsely load the input CSV into it and count imported flights."
   ]
  },
  {
   "cell_type": "code",
   "execution_count": 1,
   "metadata": {
    "collapsed": true
   },
   "outputs": [],
   "source": [
    "from flights import redis"
   ]
  },
  {
   "cell_type": "code",
   "execution_count": 2,
   "metadata": {
    "collapsed": false
   },
   "outputs": [
    {
     "data": {
      "text/plain": [
       "True"
      ]
     },
     "execution_count": 2,
     "metadata": {},
     "output_type": "execute_result"
    }
   ],
   "source": [
    "redis.cache.flushdb()"
   ]
  },
  {
   "cell_type": "code",
   "execution_count": 3,
   "metadata": {
    "collapsed": false
   },
   "outputs": [
    {
     "data": {
      "text/plain": [
       "0"
      ]
     },
     "execution_count": 3,
     "metadata": {},
     "output_type": "execute_result"
    }
   ],
   "source": [
    "count = lambda: len(list(redis.cache.scan_iter('flight_*')))\n",
    "count()"
   ]
  },
  {
   "cell_type": "markdown",
   "metadata": {},
   "source": [
    "`$ time ./app.py --import delays.csv --redis --sparse 50000`\n",
    "\n",
    "So the import is very sparse, each line has the probability of $1:50\\,000$ of being imported.\n",
    "\n",
    "Terminal output ending with:\n",
    "\n",
    "```\n",
    "[2016-09-28 16:58:37,568][INFO] flights.io io.py:import_csv:41 | 52628000 flights processed, 1054 imported...\n",
    "[2016-09-28 16:58:37,587][INFO] flights.io io.py:import_csv:65 | 1054 flights imported.\n",
    "\n",
    "real    24m57.706s\n",
    "user    20m53.690s\n",
    "sys     0m29.273s\n",
    "```\n",
    "\n",
    "It's not exactly fast."
   ]
  },
  {
   "cell_type": "code",
   "execution_count": 4,
   "metadata": {
    "collapsed": false
   },
   "outputs": [
    {
     "data": {
      "text/plain": [
       "1054"
      ]
     },
     "execution_count": 4,
     "metadata": {},
     "output_type": "execute_result"
    }
   ],
   "source": [
    "count()"
   ]
  },
  {
   "cell_type": "markdown",
   "metadata": {},
   "source": [
    "Is the sparsity alright? We can double-check it:\n",
    "\n",
    "```sh\n",
    "$ wc -l delays.csv\n",
    "52628833 delays.csv\n",
    "```\n",
    "\n",
    "$$ 52\\,628\\,000 \\approx 52\\,628\\,833 $$\n",
    "$$ 52\\,628\\,833 \\div 50\\,000 \\doteq 1\\,053 \\approx 1\\,054 $$"
   ]
  }
 ],
 "metadata": {
  "kernelspec": {
   "display_name": "Python 3",
   "language": "python",
   "name": "python3"
  },
  "language_info": {
   "codemirror_mode": {
    "name": "ipython",
    "version": 3
   },
   "file_extension": ".py",
   "mimetype": "text/x-python",
   "name": "python",
   "nbconvert_exporter": "python",
   "pygments_lexer": "ipython3",
   "version": "3.5.2"
  }
 },
 "nbformat": 4,
 "nbformat_minor": 1
}

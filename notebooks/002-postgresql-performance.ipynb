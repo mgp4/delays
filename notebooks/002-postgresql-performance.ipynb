{
 "cells": [
  {
   "cell_type": "markdown",
   "metadata": {},
   "source": [
    "# PostgreSQL performance"
   ]
  },
  {
   "cell_type": "markdown",
   "metadata": {},
   "source": [
    "Machine: 120 GB HDD 100% SSD, RAID 10, 16 GB RAM, 4 proc., Debian 8, Wedos\n",
    "\n",
    "Full dataset (52628832 rows)"
   ]
  },
  {
   "cell_type": "markdown",
   "metadata": {},
   "source": [
    "SQL query (with `\\timing`):\n",
    "```sql\n",
    "select departure_airport,\n",
    "       avg(actual_departure - scheduled_departure) as avg_delay\n",
    "from flight\n",
    "group by departure_airport;\n",
    "```\n",
    "\n",
    "Results (clean install config):\n",
    "\n",
    "```\n",
    "Time: 51475.818 ms\n",
    "Time: 53520.144 ms\n",
    "Time: 52377.436 ms\n",
    "```"
   ]
  },
  {
   "cell_type": "markdown",
   "metadata": {},
   "source": [
    "Change in `/etc/postgresql/9.4/main/postgresql.conf`:\n",
    "```ini\n",
    "effective_cache_size = 12GB  # commented before\n",
    "```\n",
    "\n",
    "New timings:\n",
    "```\n",
    "Time: 50959.661 ms\n",
    "Time: 49457.861 ms\n",
    "Time: 52859.025 ms\n",
    "```"
   ]
  },
  {
   "cell_type": "markdown",
   "metadata": {},
   "source": [
    "Change in `/etc/postgresql/9.4/main/postgresql.conf`:\n",
    "```ini\n",
    "shared_buffers = 12GB  # was 128MB before\n",
    "```\n",
    "\n",
    "New timings (using `backup_csv_import` database):\n",
    "```\n",
    "Time: 54198.705 ms\n",
    "Time: 53936.133 ms\n",
    "Time: 53047.863 ms\n",
    "```"
   ]
  },
  {
   "cell_type": "markdown",
   "metadata": {},
   "source": [
    "Change in `/etc/postgresql/9.4/main/postgresql.conf`:\n",
    "```ini\n",
    "work_mem = 100MB  # was commented before\n",
    "```\n",
    "\n",
    "New timings (using `backup_csv_import` database):\n",
    "```\n",
    "Time: 54805.514 ms\n",
    "Time: 54212.683 ms\n",
    "Time: 54239.801 ms\n",
    "```"
   ]
  },
  {
   "cell_type": "markdown",
   "metadata": {},
   "source": [
    "-----\n",
    "Comparison for [BigQuery](https://bigquery.cloud.google.com):\n",
    "```\n",
    "Query complete (1.7s elapsed, 832 MB processed)\n",
    "```"
   ]
  }
 ],
 "metadata": {
  "kernelspec": {
   "display_name": "Python 3",
   "language": "python",
   "name": "python3"
  },
  "language_info": {
   "codemirror_mode": {
    "name": "ipython",
    "version": 3
   },
   "file_extension": ".py",
   "mimetype": "text/x-python",
   "name": "python",
   "nbconvert_exporter": "python",
   "pygments_lexer": "ipython3",
   "version": "3.4.2"
  }
 },
 "nbformat": 4,
 "nbformat_minor": 1
}

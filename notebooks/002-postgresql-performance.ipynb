{
 "cells": [
  {
   "cell_type": "markdown",
   "metadata": {},
   "source": [
    "# PostgreSQL performance"
   ]
  },
  {
   "cell_type": "markdown",
   "metadata": {},
   "source": [
    "Machine: 120 GB HDD 100% SSD, RAID 10, 16 GB RAM, 4 proc., Debian 8, Wedos\n",
    "\n",
    "Full dataset (52628832 rows)"
   ]
  },
  {
   "cell_type": "markdown",
   "metadata": {},
   "source": [
    "SQL query:\n",
    "```sql\n",
    "\\timing\n",
    "select departure_airport,\n",
    "       avg(actual_departure - scheduled_departure) as avg_delay\n",
    "from flight\n",
    "group by departure_airport;\n",
    "```\n",
    "\n",
    "Results (clean install config):\n",
    "\n",
    "```\n",
    "Time: 51475.818 ms\n",
    "Time: 53520.144 ms\n",
    "Time: 52377.436 ms\n",
    "```"
   ]
  },
  {
   "cell_type": "markdown",
   "metadata": {},
   "source": [
    "Change in `/etc/postgresql/9.4/main/postgresql.conf`:\n",
    "```ini\n",
    "effective_cache_size = 12GB  # commented before\n",
    "```\n",
    "\n",
    "New timing:\n",
    "```\n",
    "Time: 50959.661 ms\n",
    "Time: 49457.861 ms\n",
    "Time: 52859.025 ms\n",
    "```"
   ]
  },
  {
   "cell_type": "markdown",
   "metadata": {},
   "source": [
    "Comparison for [BigQuery](https://bigquery.cloud.google.com):\n",
    "```\n",
    "Query complete (1.7s elapsed, 832 MB processed)\n",
    "```"
   ]
  }
 ],
 "metadata": {
  "kernelspec": {
   "display_name": "Python 3",
   "language": "python",
   "name": "python3"
  },
  "language_info": {
   "codemirror_mode": {
    "name": "ipython",
    "version": 3
   },
   "file_extension": ".py",
   "mimetype": "text/x-python",
   "name": "python",
   "nbconvert_exporter": "python",
   "pygments_lexer": "ipython3",
   "version": "3.4.2"
  }
 },
 "nbformat": 4,
 "nbformat_minor": 1
}

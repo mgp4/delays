{
 "cells": [
  {
   "cell_type": "markdown",
   "metadata": {},
   "source": [
    "# Shrinking the database"
   ]
  },
  {
   "cell_type": "markdown",
   "metadata": {},
   "source": [
    "```sql\n",
    "select count(*) from flight;\n",
    "```\n",
    "\n",
    "$52\\,628\\,832$\n",
    "\n",
    "`flight` table size: $6.3\\ GB$"
   ]
  },
  {
   "cell_type": "markdown",
   "metadata": {},
   "source": [
    "```sql\n",
    "select count(*) from flight where actual_departure is null;\n",
    "```\n",
    "\n",
    "$29\\,062\\,083$\n",
    "\n",
    "```sql\n",
    "delete from flight where actual_departure is null;\n",
    "```"
   ]
  },
  {
   "cell_type": "markdown",
   "metadata": {},
   "source": [
    "```sql\n",
    "select count(*) from flight group by carrier, flight_number, scheduled_departure;\n",
    "```\n",
    "\n",
    "```\n",
    "Time: 988869.873 ms  # 16.5 minutes\n",
    "```"
   ]
  },
  {
   "cell_type": "markdown",
   "metadata": {},
   "source": [
    "-----\n",
    "\n",
    "## BigQuery\n",
    "\n",
    "```sql\n",
    "select count(*) from delays.flight where actual_departure is null;\n",
    "```\n",
    "\n",
    "```\n",
    "Query complete (2.2s elapsed, 180 MB processed)\n",
    "```\n",
    "\n",
    "$29\\,062\\,083$\n",
    "\n",
    "\n",
    "```sql\n",
    "select count(*) from delays.flight group by carrier, flight_number, scheduled_departure;\n",
    "```\n",
    "\n",
    "```\n",
    "Query complete (105.8s elapsed, 0 B processed)\n",
    "```\n",
    "\n",
    "$21\\,878\\,721$ rows found."
   ]
  }
 ],
 "metadata": {
  "kernelspec": {
   "display_name": "Python 3",
   "language": "python",
   "name": "python3"
  },
  "language_info": {
   "codemirror_mode": {
    "name": "ipython",
    "version": 3
   },
   "file_extension": ".py",
   "mimetype": "text/x-python",
   "name": "python",
   "nbconvert_exporter": "python",
   "pygments_lexer": "ipython3",
   "version": "3.4.2"
  }
 },
 "nbformat": 4,
 "nbformat_minor": 1
}
